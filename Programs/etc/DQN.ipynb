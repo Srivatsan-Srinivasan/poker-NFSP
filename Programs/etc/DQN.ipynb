{
 "cells": [
  {
   "cell_type": "code",
   "execution_count": 2,
   "metadata": {},
   "outputs": [
    {
     "name": "stderr",
     "output_type": "stream",
     "text": [
      "Using TensorFlow backend.\n"
     ]
    }
   ],
   "source": [
    "from keras.layers import Input, Concatenate, Add, Reshape, Flatten, Lambda\n",
    "from keras.models import Model\n",
    "from models import Conv1D, Dense, Sum, IsNonZero\n",
    "import numpy as np\n",
    "import keras.backend as K"
   ]
  },
  {
   "cell_type": "code",
   "execution_count": 3,
   "metadata": {},
   "outputs": [],
   "source": [
    "hand = Input((13,4))  # zero everywhere and 1 for your cards\n",
    "board = Input((3,13,4))  # 3 rounds of board: flop [0,:,:], turn [1,:,:] and river [2,:,:]\n",
    "pot = Input((1,))\n",
    "stack = Input((1,))  # @todo: include this in the neural network\n",
    "opponent_stack = Input((1,))  # @todo: include this in the neural network\n",
    "blinds = Input((2,))  # small, big blinds\n",
    "dealer = Input((1,))  # 1 if you are the dealer, 0 otherwise\n",
    "# opponent_model = Input((2,))  # tendency to raise, number of hands played: 2 numbers between 0 and 1\n",
    "preflop_plays = Input((6, 5, 2))  # 6 plays max (check then 5 times raises), 5 possible actions (check,bet,call,raise,all-in), 2 players\n",
    "flop_plays = Input((6, 5, 2)) \n",
    "turn_plays = Input((6, 5, 2)) \n",
    "river_plays = Input((6, 5, 2))\n",
    "# value_of_hand = Input((2,))  # combination_type, rank_in_this_type"
   ]
  },
  {
   "cell_type": "code",
   "execution_count": 4,
   "metadata": {
    "collapsed": true
   },
   "outputs": [],
   "source": [
    "hidden_dim = 10\n",
    "n_actions = 14"
   ]
  },
  {
   "cell_type": "markdown",
   "metadata": {},
   "source": [
    "Processing board and hand specifically to detect flush and straight"
   ]
  },
  {
   "cell_type": "code",
   "execution_count": 27,
   "metadata": {
    "collapsed": true
   },
   "outputs": [],
   "source": [
    "# note: these may need to be wrapped by Lambda layer\n",
    "color_hand = Sum(1)(hand)\n",
    "color_board = Sum((1,2))(board)\n",
    "kinds_hand_for_ptqf = Sum(2)(hand)\n",
    "kinds_hand_for_straight = IsNonZero()(kinds_hand_for_ptqf)\n",
    "kinds_board_for_ptqf = Sum((1,3))(board)\n",
    "kinds_board_for_straight = IsNonZero()(kinds_board_for_ptqf)\n",
    "\n",
    "colors = Concatenate(2)([Reshape((4,1))(color_hand), Reshape((4,1))(color_board)])\n",
    "kinds_for_straight = Concatenate(2)([Reshape((13,1))(kinds_hand_for_straight), Reshape((13,1))(kinds_board_for_straight)])\n",
    "kinds_for_ptqf = Flatten()(Concatenate(2)([Reshape((13,1))(kinds_hand_for_ptqf), Reshape((13,1))(kinds_board_for_ptqf)]))"
   ]
  },
  {
   "cell_type": "code",
   "execution_count": 28,
   "metadata": {
    "collapsed": true
   },
   "outputs": [],
   "source": [
    "kinds_for_straight = Conv1D(5,1, activation=\"selu\", BN=False)(kinds_for_straight)\n",
    "kinds_for_straight = Conv1D(1, 1, activation='selu', BN=False)(\n",
    "    Concatenate(-1)([\n",
    "        Conv1D(1, 3, activation='selu', BN=False)(kinds_for_straight),\n",
    "        Conv1D(3, 3, dilation_rate=2, activation='selu', BN=False)(kinds_for_straight)\n",
    "    ])\n",
    ")\n",
    "kinds_for_straight = Dense(hidden_dim, activation='selu', BN=False)(Flatten()(kinds_for_straight))\n",
    "\n",
    "kinds_for_ptqf = Dense(hidden_dim, activation='selu', BN=False)(kinds_for_ptqf)\n",
    "kinds_for_ptqf = Dense(hidden_dim, activation='selu', BN=False)(kinds_for_ptqf)"
   ]
  },
  {
   "cell_type": "code",
   "execution_count": 29,
   "metadata": {
    "collapsed": true
   },
   "outputs": [],
   "source": [
    "colors = Conv1D(1, 1, activation='selu', BN=False)(colors)\n",
    "colors = Dense(hidden_dim, activation='selu', BN=False)(Flatten()(colors))"
   ]
  },
  {
   "cell_type": "markdown",
   "metadata": {},
   "source": [
    "Process board only"
   ]
  },
  {
   "cell_type": "code",
   "execution_count": 31,
   "metadata": {
    "scrolled": true
   },
   "outputs": [],
   "source": [
    "flop_alone = Dense(hidden_dim, activation='selu', BN=False)(Lambda(lambda x: x[:, 0, :, :])(board))\n",
    "flop_alone = Dense(hidden_dim, activation='selu', BN=False)(flop_alone)\n",
    "turn_alone = Dense(hidden_dim, activation='selu', BN=False)(Lambda(lambda x: x[:, 1, :, :])(board))\n",
    "turn_alone = Dense(hidden_dim, activation='selu', BN=False)(turn_alone)\n",
    "river_alone = Dense(hidden_dim, activation='selu', BN=False)(Lambda(lambda x: x[:, 2, :, :])(board))\n",
    "river_alone = Dense(hidden_dim, activation='selu', BN=False)(river_alone)\n",
    "\n",
    "board_alone = Dense(hidden_dim, activation='selu', BN=False)(Flatten()(Concatenate()([flop_alone, turn_alone, river_alone])))\n",
    "board_alone = Dense(hidden_dim, activation='selu', BN=False)(board_alone)"
   ]
  },
  {
   "cell_type": "markdown",
   "metadata": {},
   "source": [
    "Process board and hand together"
   ]
  },
  {
   "cell_type": "code",
   "execution_count": 32,
   "metadata": {
    "collapsed": true
   },
   "outputs": [],
   "source": [
    "bh = Dense(hidden_dim, activation='selu', BN=False)(Concatenate()([Flatten()(board), Flatten()(hand)]))\n",
    "bh = Dense(hidden_dim, activation='selu', BN=False)(bh)"
   ]
  },
  {
   "cell_type": "code",
   "execution_count": 33,
   "metadata": {},
   "outputs": [],
   "source": [
    "bh = Dense(hidden_dim, activation='selu', BN=False)(Concatenate()([kinds_for_ptqf, kinds_for_straight, colors, board_alone, bh]))\n",
    "bh = Dense(hidden_dim, activation='selu', BN=False)(bh)"
   ]
  },
  {
   "cell_type": "code",
   "execution_count": 34,
   "metadata": {
    "collapsed": true
   },
   "outputs": [],
   "source": [
    "n_combination = 9\n",
    "probabilities_of_each_combination_board_only = Dense(n_combination, activation='softmax', BN=False)(bh)\n",
    "probabilities_of_each_combination_board_hand = Dense(n_combination, activation='softmax', BN=False)(bh)\n",
    "board_value = Dense(1, activation='sigmoid', BN=False)(bh)\n",
    "board_hand_value = Dense(1, activation='sigmoid', BN=False)(bh)"
   ]
  },
  {
   "cell_type": "markdown",
   "metadata": {},
   "source": [
    "Add pot, blind, dealer, stacks"
   ]
  },
  {
   "cell_type": "code",
   "execution_count": 35,
   "metadata": {
    "collapsed": true
   },
   "outputs": [],
   "source": [
    "pbds = Dense(hidden_dim, activation='selu')(Concatenate()([pot, blinds, dealer, stack, opponent_stack]))\n",
    "pbds = Dense(hidden_dim, activation='selu')(pbds)"
   ]
  },
  {
   "cell_type": "markdown",
   "metadata": {},
   "source": [
    "Process plays"
   ]
  },
  {
   "cell_type": "code",
   "execution_count": 37,
   "metadata": {},
   "outputs": [],
   "source": [
    "processed_preflop = Dense(hidden_dim, activation='selu')(Flatten()(preflop_plays))\n",
    "processed_flop = Dense(hidden_dim, activation='selu')(Concatenate()([Flatten()(flop_plays), Flatten()(flop_alone)]))\n",
    "processed_turn = Dense(hidden_dim, activation='selu')(Concatenate()([Flatten()(turn_plays), Flatten()(flop_alone), Flatten()(turn_alone)]))\n",
    "processed_river = Dense(hidden_dim, activation='selu')(Concatenate()([Flatten()(river_plays), Flatten()(flop_alone), Flatten()(turn_alone), Flatten()(river_alone)]))\n",
    "# processed_opponent = Dense(hidden_dim, activation='prelu', BN=True)(opponent_model)\n",
    "plays = Dense(hidden_dim, activation='selu')(Add()([processed_preflop, \n",
    "                                                    processed_flop, \n",
    "                                                    processed_turn, \n",
    "                                                    processed_river,\n",
    "#                                                     processed_opponent\n",
    "                                                   ]))\n",
    "plays = Dense(hidden_dim, activation='selu')(plays)"
   ]
  },
  {
   "cell_type": "code",
   "execution_count": 38,
   "metadata": {
    "collapsed": true
   },
   "outputs": [],
   "source": [
    "situation_with_opponent = Dense(hidden_dim, activation='selu')(Concatenate()([plays, pbds, bh]))\n",
    "situation_with_opponent = Dense(hidden_dim, activation='selu')(situation_with_opponent)"
   ]
  },
  {
   "cell_type": "code",
   "execution_count": 39,
   "metadata": {
    "collapsed": true
   },
   "outputs": [],
   "source": [
    "Q_values = Dense(n_actions, activation=None)(situation_with_opponent)"
   ]
  },
  {
   "cell_type": "code",
   "execution_count": 40,
   "metadata": {
    "collapsed": true
   },
   "outputs": [],
   "source": [
    "Q = Model([hand, board, pot, stack, opponent_stack, blinds, dealer, preflop_plays, flop_plays, turn_plays, river_plays], [Q_values, probabilities_of_each_combination_board_only, probabilities_of_each_combination_board_hand, board_value, board_hand_value])"
   ]
  },
  {
   "cell_type": "code",
   "execution_count": 41,
   "metadata": {},
   "outputs": [
    {
     "name": "stdout",
     "output_type": "stream",
     "text": [
      "____________________________________________________________________________________________________\n",
      "Layer (type)                     Output Shape          Param #     Connected to                     \n",
      "====================================================================================================\n",
      "input_2 (InputLayer)             (None, 3, 13, 4)      0                                            \n",
      "____________________________________________________________________________________________________\n",
      "lambda_87 (Lambda)               (None, 13, 4)         0           input_2[0][0]                    \n",
      "____________________________________________________________________________________________________\n",
      "lambda_90 (Lambda)               (None, 13, 4)         0           input_2[0][0]                    \n",
      "____________________________________________________________________________________________________\n",
      "lambda_93 (Lambda)               (None, 13, 4)         0           input_2[0][0]                    \n",
      "____________________________________________________________________________________________________\n",
      "input_1 (InputLayer)             (None, 13, 4)         0                                            \n",
      "____________________________________________________________________________________________________\n",
      "permute_2 (Permute)              (None, 4, 13)         0           lambda_87[0][0]                  \n",
      "____________________________________________________________________________________________________\n",
      "permute_6 (Permute)              (None, 4, 13)         0           lambda_90[0][0]                  \n",
      "____________________________________________________________________________________________________\n",
      "permute_10 (Permute)             (None, 4, 13)         0           lambda_93[0][0]                  \n",
      "____________________________________________________________________________________________________\n",
      "lambda_74 (Lambda)               (None, 13)            0           input_1[0][0]                    \n",
      "____________________________________________________________________________________________________\n",
      "lambda_76 (Lambda)               (None, 13)            0           input_2[0][0]                    \n",
      "____________________________________________________________________________________________________\n",
      "dense_37 (Dense)                 (None, 4, 10)         140         permute_2[0][0]                  \n",
      "____________________________________________________________________________________________________\n",
      "dense_39 (Dense)                 (None, 4, 10)         140         permute_6[0][0]                  \n",
      "____________________________________________________________________________________________________\n",
      "dense_41 (Dense)                 (None, 4, 10)         140         permute_10[0][0]                 \n",
      "____________________________________________________________________________________________________\n",
      "lambda_75 (Lambda)               (None, 13)            0           lambda_74[0][0]                  \n",
      "____________________________________________________________________________________________________\n",
      "lambda_77 (Lambda)               (None, 13)            0           lambda_76[0][0]                  \n",
      "____________________________________________________________________________________________________\n",
      "permute_1 (Permute)              (None, 10, 4)         0           dense_37[0][0]                   \n",
      "____________________________________________________________________________________________________\n",
      "permute_5 (Permute)              (None, 10, 4)         0           dense_39[0][0]                   \n",
      "____________________________________________________________________________________________________\n",
      "permute_9 (Permute)              (None, 10, 4)         0           dense_41[0][0]                   \n",
      "____________________________________________________________________________________________________\n",
      "reshape_27 (Reshape)             (None, 13, 1)         0           lambda_75[0][0]                  \n",
      "____________________________________________________________________________________________________\n",
      "reshape_28 (Reshape)             (None, 13, 1)         0           lambda_77[0][0]                  \n",
      "____________________________________________________________________________________________________\n",
      "lambda_88 (Lambda)               (None, 10, 4)         0           permute_1[0][0]                  \n",
      "____________________________________________________________________________________________________\n",
      "lambda_91 (Lambda)               (None, 10, 4)         0           permute_5[0][0]                  \n",
      "____________________________________________________________________________________________________\n",
      "lambda_94 (Lambda)               (None, 10, 4)         0           permute_9[0][0]                  \n",
      "____________________________________________________________________________________________________\n",
      "concatenate_23 (Concatenate)     (None, 13, 2)         0           reshape_27[0][0]                 \n",
      "                                                                   reshape_28[0][0]                 \n",
      "____________________________________________________________________________________________________\n",
      "permute_4 (Permute)              (None, 4, 10)         0           lambda_88[0][0]                  \n",
      "____________________________________________________________________________________________________\n",
      "permute_8 (Permute)              (None, 4, 10)         0           lambda_91[0][0]                  \n",
      "____________________________________________________________________________________________________\n",
      "permute_12 (Permute)             (None, 4, 10)         0           lambda_94[0][0]                  \n",
      "____________________________________________________________________________________________________\n",
      "conv1d_20 (Conv1D)               (None, 13, 5)         10          concatenate_23[0][0]             \n",
      "____________________________________________________________________________________________________\n",
      "dense_38 (Dense)                 (None, 4, 10)         110         permute_4[0][0]                  \n",
      "____________________________________________________________________________________________________\n",
      "dense_40 (Dense)                 (None, 4, 10)         110         permute_8[0][0]                  \n",
      "____________________________________________________________________________________________________\n",
      "dense_42 (Dense)                 (None, 4, 10)         110         permute_12[0][0]                 \n",
      "____________________________________________________________________________________________________\n",
      "lambda_78 (Lambda)               (None, 13, 5)         0           conv1d_20[0][0]                  \n",
      "____________________________________________________________________________________________________\n",
      "permute_3 (Permute)              (None, 10, 4)         0           dense_38[0][0]                   \n",
      "____________________________________________________________________________________________________\n",
      "permute_7 (Permute)              (None, 10, 4)         0           dense_40[0][0]                   \n",
      "____________________________________________________________________________________________________\n",
      "permute_11 (Permute)             (None, 10, 4)         0           dense_42[0][0]                   \n",
      "____________________________________________________________________________________________________\n",
      "conv1d_21 (Conv1D)               (None, 13, 1)         15          lambda_78[0][0]                  \n",
      "____________________________________________________________________________________________________\n",
      "conv1d_22 (Conv1D)               (None, 13, 3)         45          lambda_78[0][0]                  \n",
      "____________________________________________________________________________________________________\n",
      "lambda_72 (Lambda)               (None, 4)             0           input_1[0][0]                    \n",
      "____________________________________________________________________________________________________\n",
      "lambda_73 (Lambda)               (None, 4)             0           input_2[0][0]                    \n"
     ]
    },
    {
     "name": "stdout",
     "output_type": "stream",
     "text": [
      "____________________________________________________________________________________________________\n",
      "lambda_89 (Lambda)               (None, 10, 4)         0           permute_3[0][0]                  \n",
      "____________________________________________________________________________________________________\n",
      "lambda_92 (Lambda)               (None, 10, 4)         0           permute_7[0][0]                  \n",
      "____________________________________________________________________________________________________\n",
      "lambda_95 (Lambda)               (None, 10, 4)         0           permute_11[0][0]                 \n",
      "____________________________________________________________________________________________________\n",
      "reshape_29 (Reshape)             (None, 13, 1)         0           lambda_74[0][0]                  \n",
      "____________________________________________________________________________________________________\n",
      "reshape_30 (Reshape)             (None, 13, 1)         0           lambda_76[0][0]                  \n",
      "____________________________________________________________________________________________________\n",
      "lambda_79 (Lambda)               (None, 13, 1)         0           conv1d_21[0][0]                  \n",
      "____________________________________________________________________________________________________\n",
      "lambda_80 (Lambda)               (None, 13, 3)         0           conv1d_22[0][0]                  \n",
      "____________________________________________________________________________________________________\n",
      "reshape_25 (Reshape)             (None, 4, 1)          0           lambda_72[0][0]                  \n",
      "____________________________________________________________________________________________________\n",
      "reshape_26 (Reshape)             (None, 4, 1)          0           lambda_73[0][0]                  \n",
      "____________________________________________________________________________________________________\n",
      "concatenate_24 (Concatenate)     (None, 13, 2)         0           reshape_29[0][0]                 \n",
      "                                                                   reshape_30[0][0]                 \n",
      "____________________________________________________________________________________________________\n",
      "concatenate_25 (Concatenate)     (None, 13, 4)         0           lambda_79[0][0]                  \n",
      "                                                                   lambda_80[0][0]                  \n",
      "____________________________________________________________________________________________________\n",
      "concatenate_22 (Concatenate)     (None, 4, 2)          0           reshape_25[0][0]                 \n",
      "                                                                   reshape_26[0][0]                 \n",
      "____________________________________________________________________________________________________\n",
      "concatenate_26 (Concatenate)     (None, 10, 12)        0           lambda_89[0][0]                  \n",
      "                                                                   lambda_92[0][0]                  \n",
      "                                                                   lambda_95[0][0]                  \n",
      "____________________________________________________________________________________________________\n",
      "flatten_23 (Flatten)             (None, 156)           0           input_2[0][0]                    \n",
      "____________________________________________________________________________________________________\n",
      "flatten_24 (Flatten)             (None, 52)            0           input_1[0][0]                    \n",
      "____________________________________________________________________________________________________\n",
      "input_10 (InputLayer)            (None, 6, 5, 2)       0                                            \n",
      "____________________________________________________________________________________________________\n",
      "input_11 (InputLayer)            (None, 6, 5, 2)       0                                            \n",
      "____________________________________________________________________________________________________\n",
      "input_12 (InputLayer)            (None, 6, 5, 2)       0                                            \n",
      "____________________________________________________________________________________________________\n",
      "flatten_19 (Flatten)             (None, 26)            0           concatenate_24[0][0]             \n",
      "____________________________________________________________________________________________________\n",
      "conv1d_23 (Conv1D)               (None, 13, 1)         4           concatenate_25[0][0]             \n",
      "____________________________________________________________________________________________________\n",
      "conv1d_24 (Conv1D)               (None, 4, 1)          2           concatenate_22[0][0]             \n",
      "____________________________________________________________________________________________________\n",
      "flatten_22 (Flatten)             (None, 120)           0           concatenate_26[0][0]             \n",
      "____________________________________________________________________________________________________\n",
      "concatenate_27 (Concatenate)     (None, 208)           0           flatten_23[0][0]                 \n",
      "                                                                   flatten_24[0][0]                 \n",
      "____________________________________________________________________________________________________\n",
      "input_9 (InputLayer)             (None, 6, 5, 2)       0                                            \n",
      "____________________________________________________________________________________________________\n",
      "flatten_36 (Flatten)             (None, 60)            0           input_10[0][0]                   \n",
      "____________________________________________________________________________________________________\n",
      "flatten_37 (Flatten)             (None, 40)            0           lambda_89[0][0]                  \n",
      "____________________________________________________________________________________________________\n",
      "flatten_38 (Flatten)             (None, 60)            0           input_11[0][0]                   \n",
      "____________________________________________________________________________________________________\n",
      "flatten_39 (Flatten)             (None, 40)            0           lambda_89[0][0]                  \n",
      "____________________________________________________________________________________________________\n",
      "flatten_40 (Flatten)             (None, 40)            0           lambda_92[0][0]                  \n",
      "____________________________________________________________________________________________________\n",
      "flatten_41 (Flatten)             (None, 60)            0           input_12[0][0]                   \n",
      "____________________________________________________________________________________________________\n",
      "flatten_42 (Flatten)             (None, 40)            0           lambda_89[0][0]                  \n",
      "____________________________________________________________________________________________________\n",
      "flatten_43 (Flatten)             (None, 40)            0           lambda_92[0][0]                  \n",
      "____________________________________________________________________________________________________\n",
      "flatten_44 (Flatten)             (None, 40)            0           lambda_95[0][0]                  \n",
      "____________________________________________________________________________________________________\n",
      "dense_34 (Dense)                 (None, 10)            270         flatten_19[0][0]                 \n",
      "____________________________________________________________________________________________________\n",
      "lambda_81 (Lambda)               (None, 13, 1)         0           conv1d_23[0][0]                  \n",
      "____________________________________________________________________________________________________\n",
      "lambda_85 (Lambda)               (None, 4, 1)          0           conv1d_24[0][0]                  \n",
      "____________________________________________________________________________________________________\n",
      "dense_43 (Dense)                 (None, 10)            1210        flatten_22[0][0]                 \n",
      "____________________________________________________________________________________________________\n"
     ]
    },
    {
     "name": "stdout",
     "output_type": "stream",
     "text": [
      "dense_45 (Dense)                 (None, 10)            2090        concatenate_27[0][0]             \n",
      "____________________________________________________________________________________________________\n",
      "flatten_35 (Flatten)             (None, 60)            0           input_9[0][0]                    \n",
      "____________________________________________________________________________________________________\n",
      "concatenate_33 (Concatenate)     (None, 100)           0           flatten_36[0][0]                 \n",
      "                                                                   flatten_37[0][0]                 \n",
      "____________________________________________________________________________________________________\n",
      "concatenate_34 (Concatenate)     (None, 140)           0           flatten_38[0][0]                 \n",
      "                                                                   flatten_39[0][0]                 \n",
      "                                                                   flatten_40[0][0]                 \n",
      "____________________________________________________________________________________________________\n",
      "concatenate_35 (Concatenate)     (None, 180)           0           flatten_41[0][0]                 \n",
      "                                                                   flatten_42[0][0]                 \n",
      "                                                                   flatten_43[0][0]                 \n",
      "                                                                   flatten_44[0][0]                 \n",
      "____________________________________________________________________________________________________\n",
      "lambda_83 (Lambda)               (None, 10)            0           dense_34[0][0]                   \n",
      "____________________________________________________________________________________________________\n",
      "flatten_20 (Flatten)             (None, 13)            0           lambda_81[0][0]                  \n",
      "____________________________________________________________________________________________________\n",
      "flatten_21 (Flatten)             (None, 4)             0           lambda_85[0][0]                  \n",
      "____________________________________________________________________________________________________\n",
      "lambda_96 (Lambda)               (None, 10)            0           dense_43[0][0]                   \n",
      "____________________________________________________________________________________________________\n",
      "lambda_98 (Lambda)               (None, 10)            0           dense_45[0][0]                   \n",
      "____________________________________________________________________________________________________\n",
      "dense_59 (Dense)                 (None, 10)            610         flatten_35[0][0]                 \n",
      "____________________________________________________________________________________________________\n",
      "dense_60 (Dense)                 (None, 10)            1010        concatenate_33[0][0]             \n",
      "____________________________________________________________________________________________________\n",
      "dense_61 (Dense)                 (None, 10)            1410        concatenate_34[0][0]             \n",
      "____________________________________________________________________________________________________\n",
      "dense_62 (Dense)                 (None, 10)            1810        concatenate_35[0][0]             \n",
      "____________________________________________________________________________________________________\n",
      "dense_35 (Dense)                 (None, 10)            110         lambda_83[0][0]                  \n",
      "____________________________________________________________________________________________________\n",
      "dense_33 (Dense)                 (None, 10)            140         flatten_20[0][0]                 \n",
      "____________________________________________________________________________________________________\n",
      "dense_36 (Dense)                 (None, 10)            50          flatten_21[0][0]                 \n",
      "____________________________________________________________________________________________________\n",
      "dense_44 (Dense)                 (None, 10)            110         lambda_96[0][0]                  \n",
      "____________________________________________________________________________________________________\n",
      "dense_46 (Dense)                 (None, 10)            110         lambda_98[0][0]                  \n",
      "____________________________________________________________________________________________________\n",
      "lambda_108 (Lambda)              (None, 10)            0           dense_59[0][0]                   \n",
      "____________________________________________________________________________________________________\n",
      "lambda_109 (Lambda)              (None, 10)            0           dense_60[0][0]                   \n",
      "____________________________________________________________________________________________________\n",
      "lambda_110 (Lambda)              (None, 10)            0           dense_61[0][0]                   \n",
      "____________________________________________________________________________________________________\n",
      "lambda_111 (Lambda)              (None, 10)            0           dense_62[0][0]                   \n",
      "____________________________________________________________________________________________________\n",
      "input_3 (InputLayer)             (None, 1)             0                                            \n",
      "____________________________________________________________________________________________________\n",
      "input_6 (InputLayer)             (None, 2)             0                                            \n",
      "____________________________________________________________________________________________________\n",
      "input_7 (InputLayer)             (None, 1)             0                                            \n",
      "____________________________________________________________________________________________________\n",
      "input_4 (InputLayer)             (None, 1)             0                                            \n",
      "____________________________________________________________________________________________________\n",
      "input_5 (InputLayer)             (None, 1)             0                                            \n",
      "____________________________________________________________________________________________________\n",
      "lambda_84 (Lambda)               (None, 10)            0           dense_35[0][0]                   \n",
      "____________________________________________________________________________________________________\n",
      "lambda_82 (Lambda)               (None, 10)            0           dense_33[0][0]                   \n",
      "____________________________________________________________________________________________________\n",
      "lambda_86 (Lambda)               (None, 10)            0           dense_36[0][0]                   \n",
      "____________________________________________________________________________________________________\n",
      "lambda_97 (Lambda)               (None, 10)            0           dense_44[0][0]                   \n",
      "____________________________________________________________________________________________________\n",
      "lambda_99 (Lambda)               (None, 10)            0           dense_46[0][0]                   \n",
      "____________________________________________________________________________________________________\n",
      "add_2 (Add)                      (None, 10)            0           lambda_108[0][0]                 \n",
      "                                                                   lambda_109[0][0]                 \n",
      "                                                                   lambda_110[0][0]                 \n",
      "                                                                   lambda_111[0][0]                 \n",
      "____________________________________________________________________________________________________\n",
      "concatenate_29 (Concatenate)     (None, 6)             0           input_3[0][0]                    \n",
      "                                                                   input_6[0][0]                    \n",
      "                                                                   input_7[0][0]                    \n",
      "                                                                   input_4[0][0]                    \n"
     ]
    },
    {
     "name": "stdout",
     "output_type": "stream",
     "text": [
      "                                                                   input_5[0][0]                    \n",
      "____________________________________________________________________________________________________\n",
      "concatenate_28 (Concatenate)     (None, 50)            0           lambda_84[0][0]                  \n",
      "                                                                   lambda_82[0][0]                  \n",
      "                                                                   lambda_86[0][0]                  \n",
      "                                                                   lambda_97[0][0]                  \n",
      "                                                                   lambda_99[0][0]                  \n",
      "____________________________________________________________________________________________________\n",
      "dense_63 (Dense)                 (None, 10)            110         add_2[0][0]                      \n",
      "____________________________________________________________________________________________________\n",
      "dense_53 (Dense)                 (None, 10)            70          concatenate_29[0][0]             \n",
      "____________________________________________________________________________________________________\n",
      "dense_47 (Dense)                 (None, 10)            510         concatenate_28[0][0]             \n",
      "____________________________________________________________________________________________________\n",
      "lambda_112 (Lambda)              (None, 10)            0           dense_63[0][0]                   \n",
      "____________________________________________________________________________________________________\n",
      "lambda_102 (Lambda)              (None, 10)            0           dense_53[0][0]                   \n",
      "____________________________________________________________________________________________________\n",
      "lambda_100 (Lambda)              (None, 10)            0           dense_47[0][0]                   \n",
      "____________________________________________________________________________________________________\n",
      "dense_64 (Dense)                 (None, 10)            110         lambda_112[0][0]                 \n",
      "____________________________________________________________________________________________________\n",
      "dense_54 (Dense)                 (None, 10)            110         lambda_102[0][0]                 \n",
      "____________________________________________________________________________________________________\n",
      "dense_48 (Dense)                 (None, 10)            110         lambda_100[0][0]                 \n",
      "____________________________________________________________________________________________________\n",
      "lambda_113 (Lambda)              (None, 10)            0           dense_64[0][0]                   \n",
      "____________________________________________________________________________________________________\n",
      "lambda_103 (Lambda)              (None, 10)            0           dense_54[0][0]                   \n",
      "____________________________________________________________________________________________________\n",
      "lambda_101 (Lambda)              (None, 10)            0           dense_48[0][0]                   \n",
      "____________________________________________________________________________________________________\n",
      "concatenate_36 (Concatenate)     (None, 30)            0           lambda_113[0][0]                 \n",
      "                                                                   lambda_103[0][0]                 \n",
      "                                                                   lambda_101[0][0]                 \n",
      "____________________________________________________________________________________________________\n",
      "dense_65 (Dense)                 (None, 10)            310         concatenate_36[0][0]             \n",
      "____________________________________________________________________________________________________\n",
      "lambda_114 (Lambda)              (None, 10)            0           dense_65[0][0]                   \n",
      "____________________________________________________________________________________________________\n",
      "dense_66 (Dense)                 (None, 10)            110         lambda_114[0][0]                 \n",
      "____________________________________________________________________________________________________\n",
      "lambda_115 (Lambda)              (None, 10)            0           dense_66[0][0]                   \n",
      "____________________________________________________________________________________________________\n",
      "dense_49 (Dense)                 (None, 9)             99          lambda_101[0][0]                 \n",
      "____________________________________________________________________________________________________\n",
      "dense_50 (Dense)                 (None, 9)             99          lambda_101[0][0]                 \n",
      "____________________________________________________________________________________________________\n",
      "dense_51 (Dense)                 (None, 1)             11          lambda_101[0][0]                 \n",
      "____________________________________________________________________________________________________\n",
      "dense_52 (Dense)                 (None, 1)             11          lambda_101[0][0]                 \n",
      "____________________________________________________________________________________________________\n",
      "dense_67 (Dense)                 (None, 14)            154         lambda_115[0][0]                 \n",
      "____________________________________________________________________________________________________\n",
      "activation_5 (Activation)        (None, 9)             0           dense_49[0][0]                   \n",
      "____________________________________________________________________________________________________\n",
      "activation_6 (Activation)        (None, 9)             0           dense_50[0][0]                   \n",
      "____________________________________________________________________________________________________\n",
      "activation_7 (Activation)        (None, 1)             0           dense_51[0][0]                   \n",
      "____________________________________________________________________________________________________\n",
      "activation_8 (Activation)        (None, 1)             0           dense_52[0][0]                   \n",
      "====================================================================================================\n",
      "Total params: 11,570\n",
      "Trainable params: 11,570\n",
      "Non-trainable params: 0\n",
      "____________________________________________________________________________________________________\n"
     ]
    }
   ],
   "source": [
    "Q.summary()"
   ]
  },
  {
   "cell_type": "code",
   "execution_count": 42,
   "metadata": {
    "collapsed": true
   },
   "outputs": [],
   "source": [
    "from keras.optimizers import Adam\n",
    "\n",
    "Q.compile(Adam(), ['mse', 'categorical_crossentropy', 'categorical_crossentropy', 'binary_crossentropy', 'binary_crossentropy'])"
   ]
  },
  {
   "cell_type": "code",
   "execution_count": null,
   "metadata": {
    "collapsed": true
   },
   "outputs": [],
   "source": []
  }
 ],
 "metadata": {
  "kernelspec": {
   "display_name": "Python 3",
   "language": "python",
   "name": "python3"
  },
  "language_info": {
   "codemirror_mode": {
    "name": "ipython",
    "version": 3
   },
   "file_extension": ".py",
   "mimetype": "text/x-python",
   "name": "python",
   "nbconvert_exporter": "python",
   "pygments_lexer": "ipython3",
   "version": "3.6.2"
  }
 },
 "nbformat": 4,
 "nbformat_minor": 2
}
