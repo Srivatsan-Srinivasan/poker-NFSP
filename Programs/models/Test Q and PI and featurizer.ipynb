{
 "cells": [
  {
   "cell_type": "code",
   "execution_count": 1,
   "metadata": {
    "collapsed": true
   },
   "outputs": [],
   "source": [
    "from models.q_network import *\n",
    "from game.game_utils import Card, cards_to_array, Deck, actions_to_array, Action\n",
    "from game.utils import variable"
   ]
  },
  {
   "cell_type": "code",
   "execution_count": 2,
   "metadata": {},
   "outputs": [],
   "source": [
    "n_actions = 14\n",
    "hdim = 10\n",
    "f = CardFeaturizer(hdim)\n",
    "q = QNetwork(n_actions, hdim, f)\n",
    "pi = PiNetwork(n_actions, hdim, f, q_network=q)"
   ]
  },
  {
   "cell_type": "markdown",
   "metadata": {},
   "source": [
    "# How it should be used"
   ]
  },
  {
   "cell_type": "markdown",
   "metadata": {},
   "source": [
    "Get some cards"
   ]
  },
  {
   "cell_type": "code",
   "execution_count": 12,
   "metadata": {
    "collapsed": true
   },
   "outputs": [],
   "source": [
    "deck = Deck()\n",
    "deck.populate()\n",
    "deck.shuffle()\n",
    "hand = variable(cards_to_array(deck.cards[:2])).resize(1,13,4)\n",
    "board = variable(cards_to_array(deck.cards[2:5])).resize(1,3,13,4)"
   ]
  },
  {
   "cell_type": "markdown",
   "metadata": {},
   "source": [
    "Create a game (preflop passed and now it is flop)"
   ]
  },
  {
   "cell_type": "code",
   "execution_count": 13,
   "metadata": {},
   "outputs": [],
   "source": [
    "actions_dict = {b_round: {player: [] for player in range(2)} for b_round in range(4)}\n",
    "actions_dict[0][0].append(Action('call', 1))\n",
    "actions_dict[0][1].append(Action('check', 0))\n",
    "preflop_plays, flop_plays, turn_plays, river_plays = actions_to_array(actions_dict)\n",
    "preflop_plays = variable(preflop_plays).resize(1,6,5,2)\n",
    "flop_plays = variable(flop_plays).resize(1,6,5,2)\n",
    "turn_plays = variable(turn_plays).resize(1,6,5,2)\n",
    "river_plays = variable(river_plays).resize(1,6,5,2)"
   ]
  },
  {
   "cell_type": "markdown",
   "metadata": {},
   "source": [
    "Other variables"
   ]
  },
  {
   "cell_type": "code",
   "execution_count": 14,
   "metadata": {},
   "outputs": [],
   "source": [
    "pot = variable(10).resize(1,1)\n",
    "stack = variable(98).resize(1,1)\n",
    "opponent_stack = variable(98).resize(1,1)\n",
    "BB = variable(2).resize(1,1)\n",
    "dealer = variable(0).resize(1,1)\n"
   ]
  },
  {
   "cell_type": "markdown",
   "metadata": {},
   "source": [
    "Test q and pi"
   ]
  },
  {
   "cell_type": "code",
   "execution_count": 15,
   "metadata": {},
   "outputs": [
    {
     "data": {
      "text/plain": [
       "Variable containing:\n",
       "\n",
       "Columns 0 to 9 \n",
       "-0.0867 -0.5641 -0.8212 -1.1275 -0.2186  0.5801  0.5392 -0.0816  0.7848 -0.5914\n",
       "\n",
       "Columns 10 to 13 \n",
       "-0.8976  0.0751 -0.8128  0.6367\n",
       "[torch.FloatTensor of size 1x14]"
      ]
     },
     "execution_count": 15,
     "metadata": {},
     "output_type": "execute_result"
    }
   ],
   "source": [
    "q.forward(hand, board,  pot, stack, opponent_stack, BB, dealer, preflop_plays, flop_plays, turn_plays, river_plays)"
   ]
  },
  {
   "cell_type": "code",
   "execution_count": 24,
   "metadata": {},
   "outputs": [
    {
     "data": {
      "text/plain": [
       "Variable containing:\n",
       "\n",
       "Columns 0 to 9 \n",
       " 0.0204  0.0408  0.0282  0.1921  0.0303  0.0153  0.0312  0.0741  0.2195  0.0626\n",
       "\n",
       "Columns 10 to 13 \n",
       " 0.0776  0.0703  0.0724  0.0652\n",
       "[torch.FloatTensor of size 1x14]"
      ]
     },
     "execution_count": 24,
     "metadata": {},
     "output_type": "execute_result"
    }
   ],
   "source": [
    "pi.forward(card_feat, flop_feat, turn_feat, river_feat,  pot, stack, opponent_stack, BB, dealer, preflop_plays, flop_plays, turn_plays, river_plays)"
   ]
  },
  {
   "cell_type": "code",
   "execution_count": null,
   "metadata": {
    "collapsed": true
   },
   "outputs": [],
   "source": []
  }
 ],
 "metadata": {
  "kernelspec": {
   "display_name": "Python 3",
   "language": "python",
   "name": "python3"
  },
  "language_info": {
   "codemirror_mode": {
    "name": "ipython",
    "version": 3
   },
   "file_extension": ".py",
   "mimetype": "text/x-python",
   "name": "python",
   "nbconvert_exporter": "python",
   "pygments_lexer": "ipython3",
   "version": "3.6.1"
  }
 },
 "nbformat": 4,
 "nbformat_minor": 2
}
